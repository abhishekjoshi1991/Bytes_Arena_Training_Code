{
 "cells": [
  {
   "cell_type": "code",
   "execution_count": 1,
   "id": "e1ff39a3",
   "metadata": {},
   "outputs": [],
   "source": [
    "import mysql.connector as connection\n",
    "import pandas as pd\n"
   ]
  },
  {
   "cell_type": "code",
   "execution_count": 2,
   "id": "4e8ca842",
   "metadata": {},
   "outputs": [],
   "source": [
    "pd.set_option('display.max_rows', None)"
   ]
  },
  {
   "cell_type": "code",
   "execution_count": 3,
   "id": "39046b73",
   "metadata": {},
   "outputs": [],
   "source": [
    "mydb = connection.connect(host=\"localhost\", database ='p',user=\"abhishek\", passwd=\"abhishek\",use_pure=True)"
   ]
  },
  {
   "cell_type": "code",
   "execution_count": 4,
   "id": "1979b403",
   "metadata": {},
   "outputs": [],
   "source": [
    "query_customer = \"Select * from customers;\""
   ]
  },
  {
   "cell_type": "code",
   "execution_count": 5,
   "id": "8c7052d2",
   "metadata": {},
   "outputs": [
    {
     "name": "stderr",
     "output_type": "stream",
     "text": [
      "/tmp/ipykernel_11203/2870260302.py:1: UserWarning: pandas only supports SQLAlchemy connectable (engine/connection) or database string URI or sqlite3 DBAPI2 connection. Other DBAPI2 objects are not tested. Please consider using SQLAlchemy.\n",
      "  customer_df = pd.read_sql(query_customer,mydb)\n"
     ]
    }
   ],
   "source": [
    "customer_df = pd.read_sql(query_customer,mydb)"
   ]
  },
  {
   "cell_type": "code",
   "execution_count": 6,
   "id": "28458c69",
   "metadata": {},
   "outputs": [],
   "source": [
    "query_product = \"Select * from products;\""
   ]
  },
  {
   "cell_type": "code",
   "execution_count": 7,
   "id": "22c6547d",
   "metadata": {},
   "outputs": [
    {
     "name": "stderr",
     "output_type": "stream",
     "text": [
      "/tmp/ipykernel_11203/2030505810.py:1: UserWarning: pandas only supports SQLAlchemy connectable (engine/connection) or database string URI or sqlite3 DBAPI2 connection. Other DBAPI2 objects are not tested. Please consider using SQLAlchemy.\n",
      "  product_df = pd.read_sql(query_product,mydb)\n"
     ]
    }
   ],
   "source": [
    "product_df = pd.read_sql(query_product,mydb)"
   ]
  },
  {
   "cell_type": "code",
   "execution_count": 8,
   "id": "20a40eb5",
   "metadata": {},
   "outputs": [],
   "source": [
    "query_orders = \"Select * from orders;\""
   ]
  },
  {
   "cell_type": "code",
   "execution_count": 9,
   "id": "d6072e16",
   "metadata": {},
   "outputs": [
    {
     "name": "stderr",
     "output_type": "stream",
     "text": [
      "/tmp/ipykernel_11203/4239092512.py:1: UserWarning: pandas only supports SQLAlchemy connectable (engine/connection) or database string URI or sqlite3 DBAPI2 connection. Other DBAPI2 objects are not tested. Please consider using SQLAlchemy.\n",
      "  orders_df = pd.read_sql(query_orders,mydb)\n"
     ]
    }
   ],
   "source": [
    "orders_df = pd.read_sql(query_orders,mydb)"
   ]
  },
  {
   "cell_type": "code",
   "execution_count": 10,
   "id": "e04fd279",
   "metadata": {},
   "outputs": [],
   "source": [
    "query_orders_details = \"Select * from order_details;\""
   ]
  },
  {
   "cell_type": "code",
   "execution_count": 11,
   "id": "79cd9b08",
   "metadata": {},
   "outputs": [
    {
     "name": "stderr",
     "output_type": "stream",
     "text": [
      "/tmp/ipykernel_11203/3865067006.py:1: UserWarning: pandas only supports SQLAlchemy connectable (engine/connection) or database string URI or sqlite3 DBAPI2 connection. Other DBAPI2 objects are not tested. Please consider using SQLAlchemy.\n",
      "  order_details_df = pd.read_sql(query_orders_details,mydb)\n"
     ]
    }
   ],
   "source": [
    "order_details_df = pd.read_sql(query_orders_details,mydb)"
   ]
  },
  {
   "cell_type": "code",
   "execution_count": null,
   "id": "be679ab6",
   "metadata": {},
   "outputs": [],
   "source": []
  }
 ],
 "metadata": {
  "kernelspec": {
   "display_name": "Python 3 (ipykernel)",
   "language": "python",
   "name": "python3"
  },
  "language_info": {
   "codemirror_mode": {
    "name": "ipython",
    "version": 3
   },
   "file_extension": ".py",
   "mimetype": "text/x-python",
   "name": "python",
   "nbconvert_exporter": "python",
   "pygments_lexer": "ipython3",
   "version": "3.10.6"
  }
 },
 "nbformat": 4,
 "nbformat_minor": 5
}
